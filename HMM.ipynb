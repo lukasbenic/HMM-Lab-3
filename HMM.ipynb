{
 "cells": [
  {
   "cell_type": "markdown",
   "metadata": {},
   "source": [
    "# CM20220 Fundamentals of Machine Learning\n",
    "# Lab 3 Hidden Markov Models (Viterbi Algorithm)\n",
    "\n",
    "\n",
    "Implement the Viterbi algorithm with backtracking to determine the most likely set of states that would produce a given set of observations.\n",
    "\n",
    "Given the sequence of observations GGCACTGAA.\n",
    "Implement the dynamic Viterbi algorithm to compute the missing entries in the table below and then backtrack to identify a most probable path and therefore the most likely sequence of states that would produce the observations.\n",
    "\n",
    "Do not confuse the Viterbi algorithm with the forward-backward algorithm cover in the lectures. In this task, you will write two loops. The first will calculate the missing values making use of Equation 1. At each step you must also record which decision was taken in the max() calculation. Your second loop will then backtrack using this decision information not the values calculated to determine the most likely path.\n",
    "Your code should output the values calculated, the decisions made and the most likely sequence (in the right order.)"
   ]
  },
  {
   "cell_type": "code",
   "execution_count": 1,
   "metadata": {},
   "outputs": [],
   "source": [
    "import pandas as pd\n",
    "import numpy as np\n",
    "\n",
    "\n",
    "class HMM:\n",
    "\n",
    "    def __init__(self, states, observations, start_p, trans_p, emit_p):\n",
    "        self._states = states\n",
    "        self._observations = observations\n",
    "        self._start_p = start_p\n",
    "        self._trans_p = trans_p\n",
    "        self._emit_p = emit_p\n",
    "        \n",
    "    def _dec_to_state(self, decisions, T, M):\n",
    "        arr = np.empty((M, T), dtype=str) \n",
    "        \n",
    "        for x in range (T):\n",
    "            for y in range(M):\n",
    "                if decisions[y,x] == 0:\n",
    "                    arr[y][x] = 'L'\n",
    "                else:\n",
    "                    arr[y][x] = 'H'\n",
    "        return arr\n",
    "\n",
    "    def viterbi(self, sequence):\n",
    "        T = len(sequence)\n",
    "        M = len(self._states)\n",
    "        V = np.zeros((M, T))\n",
    "        decisions = np.zeros((M, T))\n",
    "\n",
    "        for i, st in enumerate(self._states):\n",
    "            V[i][0] = start_p[st] + emit_p[st][sequence[0]]\n",
    "            decisions[i][0] = i\n",
    "\n",
    "        for t in range(1, T):\n",
    "\n",
    "            for s, st in enumerate(self._states):\n",
    "                max_tr_prob = V[0][t - 1] + self._trans_p[self._states[0]][st]  # L to (L or H)\n",
    "                tr_prob = V[1][t - 1] + self._trans_p[self._states[1]][st]  # H to (L or H)\n",
    "\n",
    "                if tr_prob > max_tr_prob:\n",
    "                    decisions[s][t] = 1\n",
    "                    max_tr_prob = tr_prob\n",
    "                else:\n",
    "                    decisions[s][t] = 0\n",
    "\n",
    "                max_prob = max_tr_prob + emit_p[st][sequence[t]]\n",
    "                V[s][t] = max_prob\n",
    "\n",
    "        opt = np.zeros(T)\n",
    "        last_state = np.argmax(V[:,-1])\n",
    "        opt[0] = last_state\n",
    "\n",
    "        back_t = 1\n",
    "        for i in range(T - 2, -1, -1):\n",
    "            opt[back_t] = int(decisions[int(last_state), i])\n",
    "            last_state = int(decisions[int(last_state), i])\n",
    "            back_t += 1\n",
    "        \n",
    "        arr = self._dec_to_state(decisions, T, M)\n",
    "        opt = np.flip(opt, axis=0)\n",
    "        result = []\n",
    "        for s in opt:\n",
    "            if s == 0:\n",
    "                result.append('L')\n",
    "            else:\n",
    "                result.append('H')\n",
    "\n",
    "   \n",
    "        return pd.DataFrame(V, columns=sequence, index=self._states), result, arr"
   ]
  },
  {
   "cell_type": "code",
   "execution_count": 2,
   "metadata": {},
   "outputs": [],
   "source": [
    "sequence=(\"G\", \"G\", \"C\", \"A\", \"C\", \"T\", \"G\", \"A\", \"A\")\n",
    "states = (\"L\", \"H\")\n",
    "observations = (\"A\", \"C\", \"G\", \"T\")\n",
    "start_p = {\"L\": -1, \"H\": -1}\n",
    "trans_p = {\n",
    "    \"L\": {\"L\": -0.737, \"H\": -1.322},\n",
    "    \"H\": {\"L\": -1, \"H\": -1}\n",
    "    }\n",
    "emit_p = {\n",
    "    \"L\": {\"A\": -1.737, \"C\": -2.322, \"G\": -2.322, \"T\": -1.737},\n",
    "    \"H\": {\"A\": -2.322, \"C\": -1.737, \"G\": -1.737, \"T\": -2.322}\n",
    "    }\n",
    "\n",
    "hmm = HMM(states, observations, start_p, trans_p, emit_p)"
   ]
  },
  {
   "cell_type": "markdown",
   "metadata": {},
   "source": [
    "## Task 1 (3 marks)\n",
    "Calculate values and decisions "
   ]
  },
  {
   "cell_type": "code",
   "execution_count": 3,
   "metadata": {
    "scrolled": true
   },
   "outputs": [
    {
     "name": "stdout",
     "output_type": "stream",
     "text": [
      "Probability Table\n"
     ]
    },
    {
     "data": {
      "text/html": [
       "<div>\n",
       "<style scoped>\n",
       "    .dataframe tbody tr th:only-of-type {\n",
       "        vertical-align: middle;\n",
       "    }\n",
       "\n",
       "    .dataframe tbody tr th {\n",
       "        vertical-align: top;\n",
       "    }\n",
       "\n",
       "    .dataframe thead th {\n",
       "        text-align: right;\n",
       "    }\n",
       "</style>\n",
       "<table border=\"1\" class=\"dataframe\">\n",
       "  <thead>\n",
       "    <tr style=\"text-align: right;\">\n",
       "      <th></th>\n",
       "      <th>G</th>\n",
       "      <th>G</th>\n",
       "      <th>C</th>\n",
       "      <th>A</th>\n",
       "      <th>C</th>\n",
       "      <th>T</th>\n",
       "      <th>G</th>\n",
       "      <th>A</th>\n",
       "      <th>A</th>\n",
       "    </tr>\n",
       "  </thead>\n",
       "  <tbody>\n",
       "    <tr>\n",
       "      <th>L</th>\n",
       "      <td>-3.322</td>\n",
       "      <td>-6.059</td>\n",
       "      <td>-8.796</td>\n",
       "      <td>-10.948</td>\n",
       "      <td>-14.007</td>\n",
       "      <td>-16.481</td>\n",
       "      <td>-19.54</td>\n",
       "      <td>-22.014</td>\n",
       "      <td>-24.488</td>\n",
       "    </tr>\n",
       "    <tr>\n",
       "      <th>H</th>\n",
       "      <td>-2.737</td>\n",
       "      <td>-5.474</td>\n",
       "      <td>-8.211</td>\n",
       "      <td>-11.533</td>\n",
       "      <td>-14.007</td>\n",
       "      <td>-17.329</td>\n",
       "      <td>-19.54</td>\n",
       "      <td>-22.862</td>\n",
       "      <td>-25.658</td>\n",
       "    </tr>\n",
       "  </tbody>\n",
       "</table>\n",
       "</div>"
      ],
      "text/plain": [
       "       G      G      C       A       C       T      G       A       A\n",
       "L -3.322 -6.059 -8.796 -10.948 -14.007 -16.481 -19.54 -22.014 -24.488\n",
       "H -2.737 -5.474 -8.211 -11.533 -14.007 -17.329 -19.54 -22.862 -25.658"
      ]
     },
     "metadata": {},
     "output_type": "display_data"
    },
    {
     "name": "stdout",
     "output_type": "stream",
     "text": [
      "Decisions\n"
     ]
    },
    {
     "data": {
      "text/html": [
       "<div>\n",
       "<style scoped>\n",
       "    .dataframe tbody tr th:only-of-type {\n",
       "        vertical-align: middle;\n",
       "    }\n",
       "\n",
       "    .dataframe tbody tr th {\n",
       "        vertical-align: top;\n",
       "    }\n",
       "\n",
       "    .dataframe thead th {\n",
       "        text-align: right;\n",
       "    }\n",
       "</style>\n",
       "<table border=\"1\" class=\"dataframe\">\n",
       "  <thead>\n",
       "    <tr style=\"text-align: right;\">\n",
       "      <th></th>\n",
       "      <th>G</th>\n",
       "      <th>G</th>\n",
       "      <th>C</th>\n",
       "      <th>A</th>\n",
       "      <th>C</th>\n",
       "      <th>T</th>\n",
       "      <th>G</th>\n",
       "      <th>A</th>\n",
       "      <th>A</th>\n",
       "    </tr>\n",
       "  </thead>\n",
       "  <tbody>\n",
       "    <tr>\n",
       "      <th>L</th>\n",
       "      <td>L</td>\n",
       "      <td>H</td>\n",
       "      <td>H</td>\n",
       "      <td>H</td>\n",
       "      <td>L</td>\n",
       "      <td>L</td>\n",
       "      <td>L</td>\n",
       "      <td>L</td>\n",
       "      <td>L</td>\n",
       "    </tr>\n",
       "    <tr>\n",
       "      <th>H</th>\n",
       "      <td>H</td>\n",
       "      <td>H</td>\n",
       "      <td>H</td>\n",
       "      <td>H</td>\n",
       "      <td>L</td>\n",
       "      <td>H</td>\n",
       "      <td>L</td>\n",
       "      <td>H</td>\n",
       "      <td>L</td>\n",
       "    </tr>\n",
       "  </tbody>\n",
       "</table>\n",
       "</div>"
      ],
      "text/plain": [
       "   G  G  C  A  C  T  G  A  A\n",
       "L  L  H  H  H  L  L  L  L  L\n",
       "H  H  H  H  H  L  H  L  H  L"
      ]
     },
     "metadata": {},
     "output_type": "display_data"
    }
   ],
   "source": [
    "V, path, decisions = hmm.viterbi(sequence)\n",
    "print(\"Probability Table\")\n",
    "display(V)\n",
    "print(\"Decisions\")\n",
    "df1 = pd.DataFrame(decisions, columns=sequence, index=states)\n",
    "display(df1)"
   ]
  },
  {
   "cell_type": "markdown",
   "metadata": {},
   "source": [
    "## Task 2 (2 marks)\n",
    "Calculate the most probable path"
   ]
  },
  {
   "cell_type": "code",
   "execution_count": 4,
   "metadata": {},
   "outputs": [
    {
     "name": "stdout",
     "output_type": "stream",
     "text": [
      "Path\n"
     ]
    },
    {
     "data": {
      "text/html": [
       "<div>\n",
       "<style scoped>\n",
       "    .dataframe tbody tr th:only-of-type {\n",
       "        vertical-align: middle;\n",
       "    }\n",
       "\n",
       "    .dataframe tbody tr th {\n",
       "        vertical-align: top;\n",
       "    }\n",
       "\n",
       "    .dataframe thead th {\n",
       "        text-align: right;\n",
       "    }\n",
       "</style>\n",
       "<table border=\"1\" class=\"dataframe\">\n",
       "  <thead>\n",
       "    <tr style=\"text-align: right;\">\n",
       "      <th></th>\n",
       "      <th>G</th>\n",
       "      <th>G</th>\n",
       "      <th>C</th>\n",
       "      <th>A</th>\n",
       "      <th>C</th>\n",
       "      <th>T</th>\n",
       "      <th>G</th>\n",
       "      <th>A</th>\n",
       "      <th>A</th>\n",
       "    </tr>\n",
       "  </thead>\n",
       "  <tbody>\n",
       "    <tr>\n",
       "      <th>Path</th>\n",
       "      <td>H</td>\n",
       "      <td>H</td>\n",
       "      <td>H</td>\n",
       "      <td>H</td>\n",
       "      <td>L</td>\n",
       "      <td>L</td>\n",
       "      <td>L</td>\n",
       "      <td>L</td>\n",
       "      <td>L</td>\n",
       "    </tr>\n",
       "  </tbody>\n",
       "</table>\n",
       "</div>"
      ],
      "text/plain": [
       "      G  G  C  A  C  T  G  A  A\n",
       "Path  H  H  H  H  L  L  L  L  L"
      ]
     },
     "metadata": {},
     "output_type": "display_data"
    }
   ],
   "source": [
    "df2 = pd.DataFrame(path).T\n",
    "df2.columns = sequence\n",
    "df2.index = {'Path'}\n",
    "print(\"Path\")\n",
    "display(df2)\n"
   ]
  },
  {
   "cell_type": "markdown",
   "metadata": {},
   "source": [
    "## Marking Guidance\n",
    "\n",
    "The deadline for all four tasks of this lab sheet is Friday 30th April 2021, 8pm.\n",
    "You must upload your Jupyter Notebook containing all the tasks attempted to Moodle for this unit by the deadline for this assignment or by any agreed extension deadline. Failing to do so will mean you do not receive the marks for the work. Marks will be given for each task successfully completed. This labsheet gives you an indicate of the last result you should be expecting for task 1. Tasks that are incomplete or produce the wrong answer will receive no marks. An allowance will be made for rounding errors in calculations. You must upload a version of your notebook that includes the output of running the code. We only expect to run your notebooks in exceptional cases."
   ]
  }
 ],
 "metadata": {
  "kernelspec": {
   "display_name": "Python 3",
   "language": "python",
   "name": "python3"
  },
  "language_info": {
   "codemirror_mode": {
    "name": "ipython",
    "version": 3
   },
   "file_extension": ".py",
   "mimetype": "text/x-python",
   "name": "python",
   "nbconvert_exporter": "python",
   "pygments_lexer": "ipython3",
   "version": "3.8.5"
  }
 },
 "nbformat": 4,
 "nbformat_minor": 4
}
